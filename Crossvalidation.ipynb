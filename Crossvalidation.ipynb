{
 "cells": [
  {
   "cell_type": "markdown",
   "metadata": {},
   "source": [
    "# Determinacion de mejor lambda a traves de CrossValidation"
   ]
  },
  {
   "cell_type": "markdown",
   "metadata": {},
   "source": [
    "#Juan Abraham Zumaya Galván 135611"
   ]
  },
  {
   "cell_type": "code",
   "execution_count": 172,
   "metadata": {},
   "outputs": [],
   "source": [
    "import pandas as pd\n",
    "import numpy as np\n",
    "from scipy import sparse\n",
    "\n",
    "from sys import maxint\n",
    "from math import pow\n",
    "from math import fabs\n",
    "from __future__ import division\n",
    "from scipy.stats import norm\n",
    "from sklearn.model_selection import train_test_split\n",
    "from sklearn.metrics import confusion_matrix\n",
    "from sklearn.metrics import mean_squared_error\n",
    "from sklearn import linear_model\n",
    "from sklearn import preprocessing\n",
    "\n",
    "import matplotlib.pyplot as plt\n",
    "from random import uniform"
   ]
  },
  {
   "cell_type": "code",
   "execution_count": 118,
   "metadata": {
    "collapsed": true
   },
   "outputs": [],
   "source": [
    "Location = r'C:\\Users\\hp\\Desktop\\learning_machine\\clases\\RegLin.csv' # Se obtiene la locazion del documento"
   ]
  },
  {
   "cell_type": "code",
   "execution_count": 119,
   "metadata": {
    "collapsed": true
   },
   "outputs": [],
   "source": [
    "df = pd.read_csv(Location)# Se leen los datos"
   ]
  },
  {
   "cell_type": "code",
   "execution_count": 120,
   "metadata": {},
   "outputs": [],
   "source": [
    "# Separar entrenamiento y prueba\n",
    "X_train, X_test, Y_train, Y_test=train_test_split(df[['X']],df[['Y']],test_size=0.25)\n",
    "X_train, X_test, Y_train, Y_test = np.array(X_train), np.array(X_test), np.array(Y_train), np.array(Y_test)"
   ]
  },
  {
   "cell_type": "code",
   "execution_count": 121,
   "metadata": {
    "collapsed": true
   },
   "outputs": [],
   "source": [
    "#Normalizamos\n",
    "scaler = preprocessing.StandardScaler().fit(X_train)\n",
    "X_train=scaler.transform(X_train)\n",
    "X_test=scaler.transform(X_test)\n",
    "\n",
    "scalerY = preprocessing.StandardScaler().fit(Y_train)\n",
    "\n",
    "Y_train=scalerY.transform(Y_train)\n",
    "Y_test=scalerY.transform(Y_test)"
   ]
  },
  {
   "cell_type": "code",
   "execution_count": 122,
   "metadata": {},
   "outputs": [],
   "source": [
    "a=(X_train.shape)\n",
    "numvar=a[1] # NUmero de Variables\n",
    "numx=a[0]#Numero de muestra"
   ]
  },
  {
   "cell_type": "code",
   "execution_count": 137,
   "metadata": {
    "collapsed": true
   },
   "outputs": [],
   "source": [
    "def V(x,coef):#Calculamos el valor estimado\n",
    "    v = coef[0]\n",
    "    a=(x.shape)\n",
    "    numx=a[0]\n",
    "    for i in range(0,numvar):\n",
    "        v += coef[i+1]*x[i]\n",
    "    return v"
   ]
  },
  {
   "cell_type": "code",
   "execution_count": 147,
   "metadata": {
    "collapsed": true
   },
   "outputs": [],
   "source": [
    "def ajuste(X, Y,eta,lam):\n",
    "    a=len(X[0,:])\n",
    "    W1=np.ones(a+1)\n",
    "    error=[]\n",
    "    \n",
    "    for i in range(0,len(X)):\n",
    "        V=W1[0]*1+W1[1]*X[i]\n",
    "        #for j in range(0,a):\n",
    "           # V=V+W[j+1]*X[i,j]\n",
    "        erroraux=Y[i]-V\n",
    "        error.append(erroraux)\n",
    "        W1[0]=W1[0]+erroraux*eta-lam*W1[0]\n",
    "        for j in range(0,a):\n",
    "              W1[j+1]=W1[j+1]+erroraux*eta*X[i,j]-lam*W1[j+1]\n",
    "        \n",
    "    return W1,error\n",
    "\n"
   ]
  },
  {
   "cell_type": "code",
   "execution_count": 148,
   "metadata": {},
   "outputs": [],
   "source": [
    "def errortotal(X2,Y2,X,Y,lam):\n",
    "    #X,Y variables de entrenamiento\n",
    "    #X2,Y2 variables de prueba\n",
    "    a=(X2.shape)\n",
    "    numvar=a[1] # NUmero de Variables\n",
    "    numx=a[0]#Numero de muestra\n",
    "    coef=ajuste(X,Y,.5,lam)[0]\n",
    "    error=0\n",
    "    for i in range(0,numx):\n",
    "         error2=pow(Y2[i]-V(X2[i,:],W_05),2)\n",
    "         error=error+error2\n",
    "            \n",
    "   \n",
    "    return error"
   ]
  },
  {
   "cell_type": "code",
   "execution_count": 149,
   "metadata": {},
   "outputs": [
    {
     "data": {
      "text/plain": [
       "17.35480526834457"
      ]
     },
     "execution_count": 149,
     "metadata": {},
     "output_type": "execute_result"
    }
   ],
   "source": [
    "errortotal(X_test,Y_test,X_train,Y_train,0)"
   ]
  },
  {
   "cell_type": "code",
   "execution_count": 173,
   "metadata": {
    "collapsed": true
   },
   "outputs": [],
   "source": [
    "#Validación cruzada\n",
    "def crossvalidation(X,Y,lambdamin,lambdamax,k):\n",
    "#Datos a ingresar X, Y\n",
    "#lamdaminimo=el valor mínimo de lambfa\n",
    "#lambdamax el valor máximo de lambda\n",
    "#numero de folds k\n",
    "    lambdas = np.arange(lambdamin,lambdamax,0.001)\n",
    "    w=lambdas.shape[0]-1\n",
    "    m=int(X.shape[0]/k)\n",
    "    errorcom=[]\n",
    "    error=0\n",
    "    for j in range (0,w-1):\n",
    "        for i in range(1,k):\n",
    "            Xval=X[(i-1)*m:i*m-1,:]\n",
    "            Yval=Y[(i-1)*m:i*m-1,:]\n",
    "            Xaprend1=X[i*m:X.shape[0]-1,:]\n",
    "            Xaprend2=X[0:(i-1)*m,:]\n",
    "            Yaprend1=Y[i*m:X.shape[0]-1,:]\n",
    "            Yaprend2=Y[0:(i-1)*m,:]\n",
    "            Xaprend=np.concatenate((Xaprend1, Xaprend2), axis=0)\n",
    "            Yaprend=np.concatenate((Yaprend1, Yaprend2), axis=0)\n",
    "            error=error+errortotal(Xval,Yval,Xaprend,Yaprend,lambdas[j])\n",
    "        errorcom.append(error)\n",
    "    \n",
    "\n",
    "    indice=errorcom.index(min(errorcom))  \n",
    "    lam = lambdas[indice]\n",
    "    return lam\n",
    "        \n",
    "\n"
   ]
  },
  {
   "cell_type": "code",
   "execution_count": 174,
   "metadata": {},
   "outputs": [
    {
     "data": {
      "text/plain": [
       "0.0"
      ]
     },
     "execution_count": 174,
     "metadata": {},
     "output_type": "execute_result"
    }
   ],
   "source": [
    "crossvalidation(X_train,Y_train,0,1,10)"
   ]
  },
  {
   "cell_type": "markdown",
   "metadata": {},
   "source": [
    "#El mejor valor de lambda es 0 de acuerdo al crossvalidation"
   ]
  },
  {
   "cell_type": "code",
   "execution_count": null,
   "metadata": {
    "collapsed": true
   },
   "outputs": [],
   "source": []
  }
 ],
 "metadata": {
  "kernelspec": {
   "display_name": "Python 2",
   "language": "python",
   "name": "python2"
  },
  "language_info": {
   "codemirror_mode": {
    "name": "ipython",
    "version": 2
   },
   "file_extension": ".py",
   "mimetype": "text/x-python",
   "name": "python",
   "nbconvert_exporter": "python",
   "pygments_lexer": "ipython2",
   "version": "2.7.13"
  }
 },
 "nbformat": 4,
 "nbformat_minor": 2
}
